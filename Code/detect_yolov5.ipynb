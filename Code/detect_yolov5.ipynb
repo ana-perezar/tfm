{
 "cells": [
  {
   "cell_type": "markdown",
   "metadata": {},
   "source": [
    "YOLOv5 🚀 by Ultralytics, AGPL-3.0 license"
   ]
  },
  {
   "cell_type": "markdown",
   "metadata": {},
   "source": [
    "\n",
    "<br>\n",
    "Run YOLOv5 detection inference on images, videos, directories, globs, YouTube, webcam, streams, etc.<br>\n",
    "Usage - sources:<br>\n",
    "    $ python detect.py --weights yolov5s.pt --source 0                               # webcam<br>\n",
    "                                                     img.jpg                         # image<br>\n",
    "                                                     vid.mp4                         # video<br>\n",
    "                                                     screen                          # screenshot<br>\n",
    "                                                     path/                           # directory<br>\n",
    "                                                     list.txt                        # list of images<br>\n",
    "                                                     list.streams                    # list of streams<br>\n",
    "                                                     'path/*.jpg'                    # glob<br>\n",
    "                                                     'https://youtu.be/LNwODJXcvt4'  # YouTube<br>\n",
    "                                                     'rtsp://example.com/media.mp4'  # RTSP, RTMP, HTTP stream<br>\n",
    "Usage - formats:<br>\n",
    "    $ python detect.py --weights yolov5s.pt                 # PyTorch<br>\n",
    "                                 yolov5s.torchscript        # TorchScript<br>\n",
    "                                 yolov5s.onnx               # ONNX Runtime or OpenCV DNN with --dnn<br>\n",
    "                                 yolov5s_openvino_model     # OpenVINO<br>\n",
    "                                 yolov5s.engine             # TensorRT<br>\n",
    "                                 yolov5s.mlmodel            # CoreML (macOS-only)<br>\n",
    "                                 yolov5s_saved_model        # TensorFlow SavedModel<br>\n",
    "                                 yolov5s.pb                 # TensorFlow GraphDef<br>\n",
    "                                 yolov5s.tflite             # TensorFlow Lite<br>\n",
    "                                 yolov5s_edgetpu.tflite     # TensorFlow Edge TPU<br>\n",
    "                                 yolov5s_paddle_model       # PaddlePaddle<br>\n"
   ]
  },
  {
   "cell_type": "code",
   "execution_count": 1,
   "metadata": {
    "tags": []
   },
   "outputs": [],
   "source": [
    "!pip install -qr requirements.txt comet_ml  # install"
   ]
  },
  {
   "cell_type": "code",
   "execution_count": 2,
   "metadata": {
    "tags": []
   },
   "outputs": [],
   "source": [
    "import argparse\n",
    "import csv\n",
    "import os\n",
    "import platform\n",
    "import sys\n",
    "from pathlib import Path"
   ]
  },
  {
   "cell_type": "code",
   "execution_count": 3,
   "metadata": {
    "tags": []
   },
   "outputs": [],
   "source": [
    "import torch"
   ]
  },
  {
   "cell_type": "code",
   "execution_count": 4,
   "metadata": {
    "tags": []
   },
   "outputs": [
    {
     "name": "stdout",
     "output_type": "stream",
     "text": [
      "ROOT: .\n"
     ]
    }
   ],
   "source": [
    "# Obtener la ruta del directorio actual del cuaderno\n",
    "NOTEBOOK_DIR = Path(os.path.abspath('')).resolve()\n",
    "\n",
    "# Asegurarse de que la ruta del cuaderno esté en el PATH\n",
    "if str(NOTEBOOK_DIR) not in sys.path:\n",
    "    sys.path.append(str(NOTEBOOK_DIR))\n",
    "\n",
    "# Establecer la variable ROOT como el directorio padre del cuaderno\n",
    "ROOT = NOTEBOOK_DIR.parent\n",
    "\n",
    "# Agregar la carpeta actual del cuaderno a ROOT de forma dinámica\n",
    "current_folder_name = os.path.basename(NOTEBOOK_DIR)\n",
    "ROOT = ROOT / current_folder_name\n",
    "\n",
    "# Asegurarse de que ROOT esté en el PATH\n",
    "if str(ROOT) not in sys.path:\n",
    "    sys.path.append(str(ROOT))\n",
    "\n",
    "# Convertir ROOT a una ruta relativa desde el directorio de trabajo actual\n",
    "ROOT = Path(os.path.relpath(ROOT, Path.cwd()))\n",
    "\n",
    "# Imprimir el resultado para verificar\n",
    "print(\"ROOT:\", ROOT)\n"
   ]
  },
  {
   "cell_type": "code",
   "execution_count": 5,
   "metadata": {
    "tags": []
   },
   "outputs": [],
   "source": [
    "from ultralytics.utils.plotting import Annotator, colors, save_one_box"
   ]
  },
  {
   "cell_type": "code",
   "execution_count": 6,
   "metadata": {
    "tags": []
   },
   "outputs": [
    {
     "name": "stdout",
     "output_type": "stream",
     "text": [
      "/home/ec2-user/SageMaker/elecnor/notebooks/ImagenesEPI/yolov5/utils/general.py\n"
     ]
    }
   ],
   "source": [
    "from models.common import DetectMultiBackend\n",
    "from utils.dataloaders import IMG_FORMATS, VID_FORMATS, LoadImages, LoadScreenshots, LoadStreams\n",
    "from utils.general import (\n",
    "    LOGGER,\n",
    "    Profile,\n",
    "    check_file,\n",
    "    check_img_size,\n",
    "    check_imshow,\n",
    "    check_requirements,\n",
    "    colorstr,\n",
    "    cv2,\n",
    "    increment_path,\n",
    "    non_max_suppression,\n",
    "    print_args,\n",
    "    scale_boxes,\n",
    "    strip_optimizer,\n",
    "    xyxy2xywh,\n",
    ")\n",
    "from utils.torch_utils import select_device, smart_inference_mode"
   ]
  },
  {
   "cell_type": "code",
   "execution_count": 7,
   "metadata": {
    "tags": []
   },
   "outputs": [],
   "source": [
    "# @smart_inference_mode()\n",
    "def run(\n",
    "    weights=ROOT / \"runs/train/bueno/best.pt\",  # model path or triton URL\n",
    "    source=ROOT / \"../dataset/images/test\",  # file/dir/URL/glob/screen/0(webcam)\n",
    "    data=ROOT / \"data/custom_dataset.yaml\",  # dataset.yaml path\n",
    "    imgsz=(640, 640),  # inference size (height, width)\n",
    "    conf_thres=0.25,  # confidence threshold\n",
    "    iou_thres=0.45,  # NMS IOU threshold\n",
    "    max_det=1000,  # maximum detections per image\n",
    "    device=\"\",  # cuda device, i.e. 0 or 0,1,2,3 or cpu\n",
    "    view_img=False,  # show results\n",
    "    save_txt=False,  # save results to *.txt\n",
    "    save_csv=True,  # save results in CSV format\n",
    "    save_conf=False,  # save confidences in --save-txt labels\n",
    "    save_crop=False,  # save cropped prediction boxes\n",
    "    nosave=False,  # do not save images/videos\n",
    "    classes=None,  # filter by class: --class 0, or --class 0 2 3\n",
    "    agnostic_nms=False,  # class-agnostic NMS\n",
    "    augment=False,  # augmented inference\n",
    "    visualize=False,  # visualize features\n",
    "    update=False,  # update all models\n",
    "    project=ROOT / \"runs/detect\",  # save results to project/name\n",
    "    name=\"exp\",  # save results to project/name\n",
    "    exist_ok=False,  # existing project/name ok, do not increment\n",
    "    line_thickness=2,  # bounding box thickness (pixels)\n",
    "    hide_labels=False,  # hide labels\n",
    "    hide_conf=False,  # hide confidences\n",
    "    half=False,  # use FP16 half-precision inference\n",
    "    dnn=False,  # use OpenCV DNN for ONNX inference\n",
    "    vid_stride=1,  # video frame-rate stride\n",
    "):\n",
    "    source = str(source)\n",
    "    save_img = not nosave and not source.endswith(\".txt\")  # save inference images\n",
    "    is_file = Path(source).suffix[1:] in (IMG_FORMATS + VID_FORMATS)\n",
    "    is_url = source.lower().startswith((\"rtsp://\", \"rtmp://\", \"http://\", \"https://\"))\n",
    "    webcam = source.isnumeric() or source.endswith(\".streams\") or (is_url and not is_file)\n",
    "    screenshot = source.lower().startswith(\"screen\")\n",
    "    if is_url and is_file:\n",
    "        source = check_file(source)  # download\n",
    "\n",
    "    # Directories\n",
    "    save_dir = increment_path(Path(project) / name, exist_ok=exist_ok)  # increment run\n",
    "    (save_dir / \"labels\" if save_txt else save_dir).mkdir(parents=True, exist_ok=True)  # make dir\n",
    "\n",
    "    # Load model\n",
    "    device = select_device(device)\n",
    "    model = DetectMultiBackend(weights, device=device, dnn=dnn, data=data, fp16=half)\n",
    "    stride, names, pt = model.stride, model.names, model.pt\n",
    "    imgsz = check_img_size(imgsz, s=stride)  # check image size\n",
    "\n",
    "    # Dataloader\n",
    "    bs = 1  # batch_size\n",
    "    if webcam:\n",
    "        view_img = check_imshow(warn=True)\n",
    "        dataset = LoadStreams(source, img_size=imgsz, stride=stride, auto=pt, vid_stride=vid_stride)\n",
    "        bs = len(dataset)\n",
    "    elif screenshot:\n",
    "        dataset = LoadScreenshots(source, img_size=imgsz, stride=stride, auto=pt)\n",
    "    else:\n",
    "        dataset = LoadImages(source, img_size=imgsz, stride=stride, auto=pt, vid_stride=vid_stride)\n",
    "    vid_path, vid_writer = [None] * bs, [None] * bs\n",
    "\n",
    "    # Run inference\n",
    "    model.warmup(imgsz=(1 if pt or model.triton else bs, 3, *imgsz))  # warmup\n",
    "    seen, windows, dt = 0, [], (Profile(device=device), Profile(device=device), Profile(device=device))\n",
    "    for path, im, im0s, vid_cap, s in dataset:\n",
    "        with dt[0]:\n",
    "            im = torch.from_numpy(im).to(model.device)\n",
    "            im = im.half() if model.fp16 else im.float()  # uint8 to fp16/32\n",
    "            im /= 255  # 0 - 255 to 0.0 - 1.0\n",
    "            if len(im.shape) == 3:\n",
    "                im = im[None]  # expand for batch dim\n",
    "            if model.xml and im.shape[0] > 1:\n",
    "                ims = torch.chunk(im, im.shape[0], 0)\n",
    "\n",
    "        # Inference\n",
    "        with dt[1]:\n",
    "            visualize = increment_path(save_dir / Path(path).stem, mkdir=True) if visualize else False\n",
    "            if model.xml and im.shape[0] > 1:\n",
    "                pred = None\n",
    "                for image in ims:\n",
    "                    if pred is None:\n",
    "                        pred = model(image, augment=augment, visualize=visualize).unsqueeze(0)\n",
    "                    else:\n",
    "                        pred = torch.cat((pred, model(image, augment=augment, visualize=visualize).unsqueeze(0)), dim=0)\n",
    "                pred = [pred, None]\n",
    "            else:\n",
    "                pred = model(im, augment=augment, visualize=visualize)\n",
    "        # NMS\n",
    "        with dt[2]:\n",
    "            pred = non_max_suppression(pred, conf_thres, iou_thres, classes, agnostic_nms, max_det=max_det)\n",
    "\n",
    "        # Second-stage classifier (optional)\n",
    "        # pred = utils.general.apply_classifier(pred, classifier_model, im, im0s)\n",
    "\n",
    "        # Define the path for the CSV file\n",
    "        csv_path = save_dir / \"predictions.csv\"\n",
    "\n",
    "        # Create or append to the CSV file\n",
    "        def write_to_csv(image_name, prediction, confidence):\n",
    "            \"\"\"Writes prediction data for an image to a CSV file, appending if the file exists.\"\"\"\n",
    "            data = {\"Image Name\": image_name, \"Prediction\": prediction, \"Confidence\": confidence}\n",
    "            with open(csv_path, mode=\"a\", newline=\"\") as f:\n",
    "                writer = csv.DictWriter(f, fieldnames=data.keys())\n",
    "                if not csv_path.is_file():\n",
    "                    writer.writeheader()\n",
    "                writer.writerow(data)\n",
    "\n",
    "        # Process predictions\n",
    "        for i, det in enumerate(pred):  # per image\n",
    "            seen += 1\n",
    "            if webcam:  # batch_size >= 1\n",
    "                p, im0, frame = path[i], im0s[i].copy(), dataset.count\n",
    "                s += f\"{i}: \"\n",
    "            else:\n",
    "                p, im0, frame = path, im0s.copy(), getattr(dataset, \"frame\", 0)\n",
    "            p = Path(p)  # to Path\n",
    "            save_path = str(save_dir / p.name)  # im.jpg\n",
    "            txt_path = str(save_dir / \"labels\" / p.stem) + (\"\" if dataset.mode == \"image\" else f\"_{frame}\")  # im.txt\n",
    "            s += \"%gx%g \" % im.shape[2:]  # print string\n",
    "            gn = torch.tensor(im0.shape)[[1, 0, 1, 0]]  # normalization gain whwh\n",
    "            imc = im0.copy() if save_crop else im0  # for save_crop\n",
    "            annotator = Annotator(im0, line_width=line_thickness, example=str(names))\n",
    "            if len(det):\n",
    "                # Rescale boxes from img_size to im0 size\n",
    "                det[:, :4] = scale_boxes(im.shape[2:], det[:, :4], im0.shape).round()\n",
    "                # Print results\n",
    "                for c in det[:, 5].unique():\n",
    "                    n = (det[:, 5] == c).sum()  # detections per class\n",
    "                    s += f\"{n} {names[int(c)]}{'s' * (n > 1)}, \"  # add to string\n",
    "                # Write results\n",
    "                for *xyxy, conf, cls in reversed(det):\n",
    "                    c = int(cls)  # integer class\n",
    "                    label = names[c] if hide_conf else f\"{names[c]}\"\n",
    "                    confidence = float(conf)\n",
    "                    confidence_str = f\"{confidence:.2f}\"\n",
    "                    if save_csv:\n",
    "                        write_to_csv(p.name, label, confidence_str)\n",
    "                    if save_txt:  # Write to file\n",
    "                        xywh = (xyxy2xywh(torch.tensor(xyxy).view(1, 4)) / gn).view(-1).tolist()  # normalized xywh\n",
    "                        line = (cls, *xywh, conf) if save_conf else (cls, *xywh)  # label format\n",
    "                        with open(f\"{txt_path}.txt\", \"a\") as f:\n",
    "                            f.write((\"%g \" * len(line)).rstrip() % line + \"\\n\")\n",
    "                    if save_img or save_crop or view_img:  # Add bbox to image\n",
    "                        c = int(cls)  # integer class\n",
    "                        label = None if hide_labels else (names[c] if hide_conf else f\"{names[c]} {conf:.2f}\")\n",
    "                        annotator.box_label(xyxy, label, color=colors(c, True))\n",
    "                    if save_crop:\n",
    "                        save_one_box(xyxy, imc, file=save_dir / \"crops\" / names[c] / f\"{p.stem}.jpg\", BGR=True)\n",
    "\n",
    "            # Stream results\n",
    "            im0 = annotator.result()\n",
    "            if view_img:\n",
    "                if platform.system() == \"Linux\" and p not in windows:\n",
    "                    windows.append(p)\n",
    "                    cv2.namedWindow(str(p), cv2.WINDOW_NORMAL | cv2.WINDOW_KEEPRATIO)  # allow window resize (Linux)\n",
    "                    cv2.resizeWindow(str(p), im0.shape[1], im0.shape[0])\n",
    "                cv2.imshow(str(p), im0)\n",
    "                cv2.waitKey(1)  # 1 millisecond\n",
    "\n",
    "            # Save results (image with detections)\n",
    "            if save_img:\n",
    "                if dataset.mode == \"image\":\n",
    "                    cv2.imwrite(save_path, im0)\n",
    "                else:  # 'video' or 'stream'\n",
    "                    if vid_path[i] != save_path:  # new video\n",
    "                        vid_path[i] = save_path\n",
    "                        if isinstance(vid_writer[i], cv2.VideoWriter):\n",
    "                            vid_writer[i].release()  # release previous video writer\n",
    "                        if vid_cap:  # video\n",
    "                            fps = vid_cap.get(cv2.CAP_PROP_FPS)\n",
    "                            w = int(vid_cap.get(cv2.CAP_PROP_FRAME_WIDTH))\n",
    "                            h = int(vid_cap.get(cv2.CAP_PROP_FRAME_HEIGHT))\n",
    "                        else:  # stream\n",
    "                            fps, w, h = 30, im0.shape[1], im0.shape[0]\n",
    "                        save_path = str(Path(save_path).with_suffix(\".mp4\"))  # force *.mp4 suffix on results videos\n",
    "                        vid_writer[i] = cv2.VideoWriter(save_path, cv2.VideoWriter_fourcc(*\"mp4v\"), fps, (w, h))\n",
    "                    vid_writer[i].write(im0)\n",
    "\n",
    "        # Print time (inference-only)\n",
    "        LOGGER.info(f\"{s}{'' if len(det) else '(no detections), '}{dt[1].dt * 1E3:.1f}ms\")\n",
    "\n",
    "    # Print results\n",
    "    t = tuple(x.t / seen * 1e3 for x in dt)  # speeds per image\n",
    "    LOGGER.info(f\"Speed: %.1fms pre-process, %.1fms inference, %.1fms NMS per image at shape {(1, 3, *imgsz)}\" % t)\n",
    "    if save_txt or save_img:\n",
    "        s = f\"\\n{len(list(save_dir.glob('labels/*.txt')))} labels saved to {save_dir / 'labels'}\" if save_txt else \"\"\n",
    "        LOGGER.info(f\"Results saved to {colorstr('bold', save_dir)}{s}\")\n",
    "    if update:\n",
    "        strip_optimizer(weights[0])  # update model (to fix SourceChangeWarning)"
   ]
  },
  {
   "cell_type": "code",
   "execution_count": 8,
   "metadata": {
    "tags": []
   },
   "outputs": [],
   "source": [
    "def main():\n",
    "    \"\"\"Executes YOLOv5 model inference with given options, checking requirements before running the model.\"\"\"\n",
    "    check_requirements(ROOT / \"requirements.txt\", exclude=(\"tensorboard\", \"thop\"))\n",
    "    run()"
   ]
  },
  {
   "cell_type": "code",
   "execution_count": 12,
   "metadata": {
    "tags": []
   },
   "outputs": [
    {
     "name": "stderr",
     "output_type": "stream",
     "text": [
      "YOLOv5 🚀 v7.0-294-gdb125a20 Python-3.10.13 torch-2.1.0 CPU\n",
      "\n",
      "Fusing layers... \n",
      "Model summary: 157 layers, 1765930 parameters, 0 gradients, 4.1 GFLOPs\n",
      "image 1/33 /home/ec2-user/SageMaker/elecnor/notebooks/ImagenesEPI/dataset/images/test/05398d7085eb502c20240215153352610.jpeg: 640x640 2 guantes, 1 casco, 1 bota, 1 arnes_pecho, 57.3ms\n",
      "image 2/33 /home/ec2-user/SageMaker/elecnor/notebooks/ImagenesEPI/dataset/images/test/0d60ff04228816ea20240213064709967.jpeg: 640x640 1 casco, 2 botas, 53.7ms\n",
      "image 3/33 /home/ec2-user/SageMaker/elecnor/notebooks/ImagenesEPI/dataset/images/test/167bc545e37e6ba420240215115640158.jpeg: 640x640 1 guante, 1 casco, 2 botas, 53.9ms\n",
      "image 4/33 /home/ec2-user/SageMaker/elecnor/notebooks/ImagenesEPI/dataset/images/test/1db83e78239a1af420240215070444335.jpeg: 640x640 1 casco, 1 arnes_pecho, 1 arnes_espalda, 53.5ms\n",
      "image 5/33 /home/ec2-user/SageMaker/elecnor/notebooks/ImagenesEPI/dataset/images/test/20e7956c569a2aea20240118152706169.jpeg: 640x640 1 casco, 1 bota, 53.3ms\n",
      "image 6/33 /home/ec2-user/SageMaker/elecnor/notebooks/ImagenesEPI/dataset/images/test/23de1b3cf38b37dc20240124122550519.jpeg: 640x640 1 casco, 1 arnes_espalda, 55.8ms\n",
      "image 7/33 /home/ec2-user/SageMaker/elecnor/notebooks/ImagenesEPI/dataset/images/test/3b996465f6208fdd20240118082755154.jpeg: 640x640 1 guante, 2 botas, 1 arnes_espalda, 53.4ms\n",
      "image 8/33 /home/ec2-user/SageMaker/elecnor/notebooks/ImagenesEPI/dataset/images/test/3b996465f6208fdd20240119062735539.jpeg: 640x640 1 casco, 2 botas, 1 arnes_espalda, 57.4ms\n",
      "image 9/33 /home/ec2-user/SageMaker/elecnor/notebooks/ImagenesEPI/dataset/images/test/3c94f88e09950a4320240124075948449.jpeg: 640x640 (no detections), 56.9ms\n",
      "image 10/33 /home/ec2-user/SageMaker/elecnor/notebooks/ImagenesEPI/dataset/images/test/3f73aa60601c1cce20240130080419181.jpeg: 640x640 3 guantes, 1 casco, 2 botas, 53.3ms\n",
      "image 11/33 /home/ec2-user/SageMaker/elecnor/notebooks/ImagenesEPI/dataset/images/test/44708d2b83c1de6720240116091057525.jpeg: 640x640 1 casco, 56.7ms\n",
      "image 12/33 /home/ec2-user/SageMaker/elecnor/notebooks/ImagenesEPI/dataset/images/test/5e3184171ee22e1520240213081109184.jpeg: 640x640 1 casco, 56.2ms\n",
      "image 13/33 /home/ec2-user/SageMaker/elecnor/notebooks/ImagenesEPI/dataset/images/test/6de1a1b98ff6f7b620240213081055209.jpeg: 640x640 5 guantes, 1 casco, 7 botas, 2 arnes_pechos, 53.6ms\n",
      "image 14/33 /home/ec2-user/SageMaker/elecnor/notebooks/ImagenesEPI/dataset/images/test/6de1a1b98ff6f7b620240213090353261.jpeg: 640x640 2 cascos, 4 botas, 1 arnes_pecho, 55.2ms\n",
      "image 15/33 /home/ec2-user/SageMaker/elecnor/notebooks/ImagenesEPI/dataset/images/test/76bbc2eb642a13eb20240213090337613.jpeg: 640x640 1 casco, 1 arnes_espalda, 54.7ms\n",
      "image 16/33 /home/ec2-user/SageMaker/elecnor/notebooks/ImagenesEPI/dataset/images/test/7ce2703da0a9a96220240122095057602.jpeg: 640x640 4 guantes, 1 casco, 4 botas, 1 arnes_pecho, 55.5ms\n",
      "image 17/33 /home/ec2-user/SageMaker/elecnor/notebooks/ImagenesEPI/dataset/images/test/7cec682e635884a720240130074818590.jpeg: 640x640 1 casco, 2 botas, 55.3ms\n",
      "image 18/33 /home/ec2-user/SageMaker/elecnor/notebooks/ImagenesEPI/dataset/images/test/8b59dc23b88b13ed20240213115905937.jpeg: 640x640 1 casco, 1 bota, 1 arnes_espalda, 54.0ms\n",
      "image 19/33 /home/ec2-user/SageMaker/elecnor/notebooks/ImagenesEPI/dataset/images/test/9b98a310805f185120240116102413604.jpeg: 640x640 1 bota, 1 arnes_pecho, 54.6ms\n",
      "image 20/33 /home/ec2-user/SageMaker/elecnor/notebooks/ImagenesEPI/dataset/images/test/bfe7686823c0cb9820240110083741261.jpeg: 640x640 2 guantes, 2 cascos, 1 bota, 54.0ms\n",
      "image 21/33 /home/ec2-user/SageMaker/elecnor/notebooks/ImagenesEPI/dataset/images/test/cb6d52abb4dc9cd320240215075241921.jpeg: 640x640 1 guante, 1 casco, 53.5ms\n",
      "image 22/33 /home/ec2-user/SageMaker/elecnor/notebooks/ImagenesEPI/dataset/images/test/d7e0e061817d97c420240123082740996.jpeg: 640x640 2 guantes, 1 casco, 2 botas, 57.4ms\n",
      "image 23/33 /home/ec2-user/SageMaker/elecnor/notebooks/ImagenesEPI/dataset/images/test/dc3171bc6f7ac13b20240131002310077.jpeg: 640x640 2 guantes, 2 cascos, 1 arnes_pecho, 57.3ms\n",
      "image 24/33 /home/ec2-user/SageMaker/elecnor/notebooks/ImagenesEPI/dataset/images/test/e2f44f48c43f327820240215083613165.jpeg: 640x640 1 bota, 1 arnes_pecho, 1 arnes_espalda, 57.1ms\n",
      "image 25/33 /home/ec2-user/SageMaker/elecnor/notebooks/ImagenesEPI/dataset/images/test/e937d1829334ecaf20240130122916049.jpeg: 640x640 1 guante, 1 casco, 1 bota, 1 arnes_pecho, 58.0ms\n",
      "image 26/33 /home/ec2-user/SageMaker/elecnor/notebooks/ImagenesEPI/dataset/images/test/eb8809a398007c9b20240118080326385.jpeg: 640x640 1 guante, 2 cascos, 8 botas, 2 arnes_pechos, 1 arnes_espalda, 56.0ms\n",
      "image 27/33 /home/ec2-user/SageMaker/elecnor/notebooks/ImagenesEPI/dataset/images/test/f521fcafc8fa186420240125084456981.jpeg: 640x640 1 guante, 1 casco, 1 bota, 1 arnes_espalda, 54.1ms\n",
      "image 28/33 /home/ec2-user/SageMaker/elecnor/notebooks/ImagenesEPI/dataset/images/test/f589ea0e46f446ae20240123233739177.jpeg: 640x640 1 arnes_espalda, 53.8ms\n",
      "image 29/33 /home/ec2-user/SageMaker/elecnor/notebooks/ImagenesEPI/dataset/images/test/f6162d8e0c50f0f720240116090332487.jpeg: 640x640 2 guantes, 1 casco, 2 botas, 1 arnes_pecho, 54.0ms\n",
      "image 30/33 /home/ec2-user/SageMaker/elecnor/notebooks/ImagenesEPI/dataset/images/test/f6518ebbb31bfff520240122123518510.jpeg: 640x640 1 casco, 2 botas, 1 arnes_espalda, 53.5ms\n",
      "image 31/33 /home/ec2-user/SageMaker/elecnor/notebooks/ImagenesEPI/dataset/images/test/fe2d47a05d91167c20240131093951692.jpeg: 640x640 1 casco, 1 bota, 1 arnes_espalda, 53.4ms\n",
      "image 32/33 /home/ec2-user/SageMaker/elecnor/notebooks/ImagenesEPI/dataset/images/test/fea30004cdd3882c20240215084742497.jpeg: 640x640 1 arnes_espalda, 54.0ms\n",
      "image 33/33 /home/ec2-user/SageMaker/elecnor/notebooks/ImagenesEPI/dataset/images/test/fff0e6c1991a0dc720240126084124052.jpeg: 640x640 1 casco, 1 bota, 54.3ms\n",
      "Speed: 0.6ms pre-process, 55.0ms inference, 0.8ms NMS per image at shape (1, 3, 640, 640)\n",
      "Results saved to \u001b[1mruns/detect/exp15\u001b[0m\n"
     ]
    }
   ],
   "source": [
    "main()"
   ]
  },
  {
   "cell_type": "code",
   "execution_count": null,
   "metadata": {},
   "outputs": [],
   "source": []
  }
 ],
 "metadata": {
  "kernelspec": {
   "display_name": "conda_pytorch_p310",
   "language": "python",
   "name": "conda_pytorch_p310"
  },
  "language_info": {
   "codemirror_mode": {
    "name": "ipython",
    "version": 3
   },
   "file_extension": ".py",
   "mimetype": "text/x-python",
   "name": "python",
   "nbconvert_exporter": "python",
   "pygments_lexer": "ipython3",
   "version": "3.10.13"
  }
 },
 "nbformat": 4,
 "nbformat_minor": 4
}
