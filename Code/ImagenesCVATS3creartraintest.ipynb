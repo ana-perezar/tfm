{
 "cells": [
  {
   "cell_type": "code",
   "execution_count": 1,
   "id": "68234e03",
   "metadata": {
    "tags": []
   },
   "outputs": [],
   "source": [
    "import boto3\n",
    "import os, zipfile\n",
    "import shutil\n",
    "import json, pandas as pd"
   ]
  },
  {
   "cell_type": "code",
   "execution_count": 2,
   "id": "d056f5b5",
   "metadata": {
    "tags": []
   },
   "outputs": [],
   "source": [
    "client = boto3.client('s3', aws_access_key_id='xxx',\n",
    "    aws_secret_access_key='xxx')\n",
    "\n",
    "#Conexión a la API de S3"
   ]
  },
  {
   "cell_type": "code",
   "execution_count": 3,
   "id": "057ab93c",
   "metadata": {
    "tags": []
   },
   "outputs": [],
   "source": [
    "BUCKET = 'xxx'"
   ]
  },
  {
   "cell_type": "code",
   "execution_count": 4,
   "id": "71a07c5d",
   "metadata": {
    "tags": []
   },
   "outputs": [],
   "source": [
    "# ANTES DE NADA, DESCARGAR ZIP ETIQUETAS\n",
    "# En CVAT exportar como YOLO, sin incluir imágenes, y que lo ponga en un dir de S3. \n",
    "# Es decir, nombrar el zip como directorio remoto imagenesEPI/resultadoscvat/train, por ejemplo)"
   ]
  },
  {
   "cell_type": "markdown",
   "id": "fe35ac5c",
   "metadata": {},
   "source": [
    "## Descarga y descompresión de carpeta .zip"
   ]
  },
  {
   "cell_type": "code",
   "execution_count": 5,
   "id": "fb9d156d",
   "metadata": {
    "tags": []
   },
   "outputs": [],
   "source": [
    "tmpfolder='temporal'\n",
    "resfolder='res'\n",
    "dirs3='imagenesEPI/resultadoscvat/'\n",
    "filename='fotos_arneses2.zip'"
   ]
  },
  {
   "cell_type": "code",
   "execution_count": 6,
   "id": "3b56b479",
   "metadata": {
    "tags": []
   },
   "outputs": [],
   "source": [
    "os.mkdir(tmpfolder)\n",
    "os.mkdir(resfolder)\n",
    "# Crea directorio temporal y de resultados"
   ]
  },
  {
   "cell_type": "code",
   "execution_count": 7,
   "id": "fbebfc93",
   "metadata": {
    "tags": []
   },
   "outputs": [],
   "source": [
    "client.download_file(BUCKET,dirs3+filename,tmpfolder+'/'+filename)\n",
    "# Descarga el zip de S3"
   ]
  },
  {
   "cell_type": "code",
   "execution_count": 8,
   "id": "c10b19ce",
   "metadata": {
    "tags": []
   },
   "outputs": [],
   "source": [
    "with zipfile.ZipFile(tmpfolder+'/'+filename,\"r\") as zip_ref:\n",
    "    zip_ref.extractall(resfolder)\n",
    "# Descomprime el zip"
   ]
  },
  {
   "cell_type": "code",
   "execution_count": 9,
   "id": "02399131",
   "metadata": {
    "tags": []
   },
   "outputs": [],
   "source": [
    "shutil.rmtree(tmpfolder)\n",
    "#borra carpeta temporal"
   ]
  },
  {
   "cell_type": "code",
   "execution_count": null,
   "id": "e9706173-aece-444b-be3e-c301f8ccfec0",
   "metadata": {},
   "outputs": [],
   "source": [
    "client.delete_object( Bucket=BUCKET,Key=dirs3+filename)\n",
    "#borra zip de s3    "
   ]
  },
  {
   "cell_type": "markdown",
   "id": "a4a4126b",
   "metadata": {},
   "source": [
    "## Procesado de etiquetas"
   ]
  },
  {
   "cell_type": "code",
   "execution_count": 10,
   "id": "68e519c8-d902-423c-afb7-46b98f0e2a7d",
   "metadata": {
    "tags": []
   },
   "outputs": [],
   "source": [
    "tagFolder='res/obj_train_data/imagenesEPI/sin_etiquetar/2023_12_arnes/'\n",
    "# El fichero .zip, que se descarga desde CVAT con las etiquetas, tiene un directorio obj_train_data que por dentro se estructura de la misma forma que le bucket de S3 desde donde se subieron las imágenes a CVAT"
   ]
  },
  {
   "cell_type": "code",
   "execution_count": 11,
   "id": "0bac3ff8-9459-43ab-8d5a-c89273fe3e75",
   "metadata": {
    "tags": []
   },
   "outputs": [],
   "source": [
    "files=os.listdir(tagFolder)\n"
   ]
  },
  {
   "cell_type": "code",
   "execution_count": 12,
   "id": "f3f3dd02-7eb2-4805-b1df-be984b255391",
   "metadata": {
    "tags": []
   },
   "outputs": [],
   "source": [
    "res=[]\n",
    "for file in files:\n",
    "    if file.endswith('.txt'):\n",
    "        if os.stat(tagFolder+file).st_size >0:\n",
    "            res.append(file)    \n",
    "\n",
    "# Crea lista de ficheros con etiquetas (solo añade los ficheros que tienen etiquetas, ya que desde CVAT se exportan todos los ficheros, aunque la imagen no se haya etiquetado)"
   ]
  },
  {
   "cell_type": "code",
   "execution_count": 13,
   "id": "edbb7a9c-d998-4fd8-b332-e1d68ddc5db1",
   "metadata": {
    "tags": []
   },
   "outputs": [
    {
     "data": {
      "text/plain": [
       "616"
      ]
     },
     "execution_count": 13,
     "metadata": {},
     "output_type": "execute_result"
    }
   ],
   "source": [
    "len(res)"
   ]
  },
  {
   "cell_type": "code",
   "execution_count": 14,
   "id": "b819052b-341d-4c48-b329-9d3a4e1efe68",
   "metadata": {
    "tags": []
   },
   "outputs": [],
   "source": [
    "TEST_PCT=20\n",
    "VAL_PCT=15\n",
    "\n",
    "# Define porcentaje de archivos que irán a test y validación"
   ]
  },
  {
   "cell_type": "code",
   "execution_count": 16,
   "id": "e1539be5-4f0a-4234-8647-426944638162",
   "metadata": {
    "tags": []
   },
   "outputs": [],
   "source": [
    "test_size=round(len(res)*TEST_PCT/100)"
   ]
  },
  {
   "cell_type": "code",
   "execution_count": 17,
   "id": "d429756c-d4c0-471d-9ad5-46c0034cf4f3",
   "metadata": {
    "tags": []
   },
   "outputs": [],
   "source": [
    "val_size=round(len(res)*VAL_PCT/100)"
   ]
  },
  {
   "cell_type": "code",
   "execution_count": 18,
   "id": "3368774d-4fb0-4e47-9e11-7e8a931859fa",
   "metadata": {
    "tags": []
   },
   "outputs": [],
   "source": [
    "train_size=len(res)-test_size-val_size"
   ]
  },
  {
   "cell_type": "code",
   "execution_count": null,
   "id": "b972d233",
   "metadata": {},
   "outputs": [],
   "source": [
    "# En las celdas anteriores se ha definido el tamaño de los conjuntos de train, test y validación"
   ]
  },
  {
   "cell_type": "code",
   "execution_count": 19,
   "id": "b0ce0e71-50ca-42d1-9262-4818ab1c9938",
   "metadata": {
    "tags": []
   },
   "outputs": [],
   "source": [
    "import random\n",
    "random.shuffle(res)\n",
    "# Mezcla aleatoriamente los ficheros de etiquetas"
   ]
  },
  {
   "cell_type": "code",
   "execution_count": 21,
   "id": "1dd04da9-8405-437e-9b87-0ca69ff9377d",
   "metadata": {
    "tags": []
   },
   "outputs": [],
   "source": [
    "train=res[:train_size]\n",
    "val=res[train_size:train_size+val_size]\n",
    "test=res[train_size+val_size:]\n",
    "# Divide ficheros en las carpetas de train, test y validación"
   ]
  },
  {
   "cell_type": "markdown",
   "id": "d02c4aed",
   "metadata": {},
   "source": [
    "## Creación de carpetas \"labels\" e \"images\""
   ]
  },
  {
   "cell_type": "code",
   "execution_count": 24,
   "id": "4a2e4284-7955-43a4-a242-38836ca1fc20",
   "metadata": {
    "tags": []
   },
   "outputs": [],
   "source": [
    "dsFolder='imagenesEPI/datasetarneses1completo/'"
   ]
  },
  {
   "cell_type": "code",
   "execution_count": 25,
   "id": "1b7a37a3-29f4-4998-b7e6-e8b4731073c5",
   "metadata": {
    "tags": []
   },
   "outputs": [],
   "source": [
    "for file in train:\n",
    "    client.upload_file(tagFolder+file,BUCKET, dsFolder+'labels/train/'+file)\n",
    "    client.copy_object(CopySource=BUCKET+'/imagenesEPI/sin_etiquetar/2023_12_arnes/'+file[:-3]+'jpeg', Bucket=BUCKET,\n",
    "    Key=dsFolder+'images/train/'+file[:-3]+'jpeg'\n",
    ")\n",
    "    \n",
    "# Crea carpetas, en S3, de train dentro de images y labels y sube las imágenes y etiquetas de train"
   ]
  },
  {
   "cell_type": "code",
   "execution_count": 26,
   "id": "b4a42b1b-7a92-4123-9772-7890b395c0df",
   "metadata": {
    "tags": []
   },
   "outputs": [],
   "source": [
    "for file in test:\n",
    "    client.upload_file(tagFolder+file,BUCKET, dsFolder+'labels/test/'+file)\n",
    "    client.copy_object(CopySource=BUCKET+'/imagenesEPI/sin_etiquetar/2023_12_arnes/'+file[:-3]+'jpeg', Bucket=BUCKET,\n",
    "    Key=dsFolder+'images/test/'+file[:-3]+'jpeg'\n",
    ")\n",
    "    \n",
    "# Crea carpetas, en S3, de test dentro de images y labels y sube las imágenes y etiquetas de test"
   ]
  },
  {
   "cell_type": "code",
   "execution_count": 27,
   "id": "bc7fd3b2-ae95-4d19-baea-b3a4571c6b6f",
   "metadata": {
    "tags": []
   },
   "outputs": [],
   "source": [
    "for file in val:\n",
    "    client.upload_file(tagFolder+file,BUCKET, dsFolder+'labels/val/'+file)\n",
    "    client.copy_object(CopySource=BUCKET+'/imagenesEPI/sin_etiquetar/2023_12_arnes/'+file[:-3]+'jpeg', Bucket=BUCKET,\n",
    "    Key=dsFolder+'images/val/'+file[:-3]+'jpeg'\n",
    ")\n",
    "    \n",
    "# Crea carpetas, en S3, de val dentro de images y labels y sube las imágenes y etiquetas de val"
   ]
  },
  {
   "cell_type": "code",
   "execution_count": null,
   "id": "8e215120-71a3-4d82-a91f-d8490035aefb",
   "metadata": {},
   "outputs": [],
   "source": [
    "#bajar dataset"
   ]
  },
  {
   "cell_type": "markdown",
   "id": "c0633a8a",
   "metadata": {},
   "source": [
    "## Descarga dataset estructurado a local (instancia SageMaker)"
   ]
  },
  {
   "cell_type": "code",
   "execution_count": 4,
   "id": "7ce3fe0b-4d6d-4141-b072-3ac2c97fe18b",
   "metadata": {
    "tags": []
   },
   "outputs": [],
   "source": [
    "dsFolder='imagenesEPI/datasetarneses1completo/'"
   ]
  },
  {
   "cell_type": "code",
   "execution_count": 5,
   "id": "63661530-8000-433d-b7de-fe0bc0027985",
   "metadata": {
    "tags": []
   },
   "outputs": [],
   "source": [
    "localdsfolder='dataset_fotosarneses2_completo'"
   ]
  },
  {
   "cell_type": "code",
   "execution_count": 6,
   "id": "2b73ac09-118c-4675-b9c6-20fb846fe931",
   "metadata": {
    "tags": []
   },
   "outputs": [],
   "source": [
    "os.mkdir(localdsfolder)\n",
    "#crea directorio, en local, donde se guarda el dataset"
   ]
  },
  {
   "cell_type": "code",
   "execution_count": 7,
   "id": "08db4150-d9cc-4c0f-a442-d369f2c94151",
   "metadata": {
    "tags": []
   },
   "outputs": [],
   "source": [
    "keys = []\n",
    "dirs = []\n",
    "next_token = ''\n",
    "base_kwargs = {\n",
    "    'Bucket':BUCKET,\n",
    "    'Prefix':dsFolder,\n",
    "}"
   ]
  },
  {
   "cell_type": "code",
   "execution_count": 8,
   "id": "dfa4687e-d04d-43e0-8bc8-e7de80b8441c",
   "metadata": {
    "tags": []
   },
   "outputs": [],
   "source": [
    "exfiles=[]\n",
    "for root, subdirs, files in os.walk(localdsfolder+'/'):\n",
    "    if len(files)>0:\n",
    "        print(root)\n",
    "        print(len(files))\n",
    "        for file in files:\n",
    "            exfiles.append(root[8:]+'/'+file)\n",
    "\n",
    "#  Recorre recursivamente el directorio especificado y recopila información sobre su contenido"
   ]
  },
  {
   "cell_type": "code",
   "execution_count": 9,
   "id": "163d41eb-243d-4ce4-b312-9c3c4ebd7468",
   "metadata": {
    "tags": []
   },
   "outputs": [],
   "source": [
    "while next_token is not None:\n",
    "    kwargs = base_kwargs.copy()\n",
    "    if next_token != '':\n",
    "        kwargs.update({'ContinuationToken': next_token})\n",
    "    results = client.list_objects_v2(**kwargs)\n",
    "    contents = results.get('Contents')\n",
    "    for i in contents:\n",
    "        k = i.get('Key')\n",
    "        if k[-1] != '/':\n",
    "            keys.append(k)\n",
    "    next_token = results.get('NextContinuationToken')\n",
    "\n",
    "    # Lista todos los objetos del bucket de Amazon S3 bajo un prefijo específico (dsfolder), excluyendo los \"directorios\" (claves que terminan con /)"
   ]
  },
  {
   "cell_type": "code",
   "execution_count": 10,
   "id": "e8ff7f62-63a3-46a5-ba98-7a7b7f6e9f2c",
   "metadata": {
    "tags": []
   },
   "outputs": [],
   "source": [
    "for k in keys:\n",
    "    dest_pathname = os.path.join(localdsfolder, k[len(dsFolder):])\n",
    "    if not os.path.exists(os.path.dirname(dest_pathname)):\n",
    "        os.makedirs(os.path.dirname(dest_pathname))\n",
    "    if k[20:] not in exfiles:\n",
    "        client.download_file(BUCKET, k, dest_pathname)\n",
    "    else:\n",
    "        print(k)\n",
    "\n",
    "# Descarga archivos desde el bucket S3 a un directorio local, asegurándose de que solo se descarguen los archivos que no están en la lista de archivos ya existentes (exfiles)"
   ]
  },
  {
   "cell_type": "code",
   "execution_count": null,
   "id": "808f4b84-d4f1-400c-8cc3-eeb47cd4835d",
   "metadata": {},
   "outputs": [],
   "source": [
    "# El resultado de este proceso es el dataset con las imágenes y etiquetas estructurados en carpetas de train, test y val, dentro de sus respectivas carpetas (images y labels), en el entorno local (instanncia de SageMaker)\n"
   ]
  }
 ],
 "metadata": {
  "kernelspec": {
   "display_name": "conda_python3",
   "language": "python",
   "name": "conda_python3"
  },
  "language_info": {
   "codemirror_mode": {
    "name": "ipython",
    "version": 3
   },
   "file_extension": ".py",
   "mimetype": "text/x-python",
   "name": "python",
   "nbconvert_exporter": "python",
   "pygments_lexer": "ipython3",
   "version": "3.10.13"
  }
 },
 "nbformat": 4,
 "nbformat_minor": 5
}
